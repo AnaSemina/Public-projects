{
 "cells": [
  {
   "cell_type": "code",
   "execution_count": 1,
   "metadata": {},
   "outputs": [],
   "source": [
    "import telebot\n",
    "import numpy as np"
   ]
  },
  {
   "cell_type": "code",
   "execution_count": 2,
   "metadata": {},
   "outputs": [],
   "source": [
    "coef_bot = telebot.TeleBot('6568408378:AAGI6VJc268dEQT7_jnRdu_ki4p_xGqcoIU')"
   ]
  },
  {
   "cell_type": "code",
   "execution_count": 3,
   "metadata": {},
   "outputs": [
    {
     "ename": "",
     "evalue": "",
     "output_type": "error",
     "traceback": [
      "\u001b[1;31mThe Kernel crashed while executing code in the current cell or a previous cell. \n",
      "\u001b[1;31mPlease review the code in the cell(s) to identify a possible cause of the failure. \n",
      "\u001b[1;31mClick <a href='https://aka.ms/vscodeJupyterKernelCrash'>here</a> for more info. \n",
      "\u001b[1;31mView Jupyter <a href='command:jupyter.viewOutput'>log</a> for further details."
     ]
    }
   ],
   "source": [
    "\n",
    "user_data = {}\n",
    "\n",
    "@coef_bot.message_handler(commands=['start'])\n",
    "def send_welcome(message):\n",
    "    coef_bot.reply_to(message, \"Привет! Введи число x:\")\n",
    "\n",
    "@coef_bot.message_handler(func=lambda message: True)\n",
    "def handle_message(message):\n",
    "    chat_id = message.chat.id\n",
    "    text = message.text\n",
    "\n",
    "    try:\n",
    "        number = float(text)\n",
    "        if chat_id not in user_data:\n",
    "          \n",
    "            user_data[chat_id] = {'x': number}\n",
    "            coef_bot.reply_to(message, \"Введи число y:\")\n",
    "        else:\n",
    "            \n",
    "            user_data[chat_id]['y'] = number\n",
    "            x = user_data[chat_id]['x']\n",
    "            y = user_data[chat_id]['y']\n",
    "           \n",
    "            z = (1 / x) + (1 / y)\n",
    "            coef_bot.reply_to(message, f\"Результат:{z:.4f}\")\n",
    "            \n",
    "            del user_data[chat_id]\n",
    "    except ValueError:\n",
    "        coef_bot.reply_to(message, \"Неправильный ввод, введите число.\")\n",
    "\n",
    "\n",
    "coef_bot.polling(non_stop=True)"
   ]
  }
 ],
 "metadata": {
  "kernelspec": {
   "display_name": "Python 3",
   "language": "python",
   "name": "python3"
  },
  "language_info": {
   "codemirror_mode": {
    "name": "ipython",
    "version": 3
   },
   "file_extension": ".py",
   "mimetype": "text/x-python",
   "name": "python",
   "nbconvert_exporter": "python",
   "pygments_lexer": "ipython3",
   "version": "3.9.10"
  }
 },
 "nbformat": 4,
 "nbformat_minor": 2
}
